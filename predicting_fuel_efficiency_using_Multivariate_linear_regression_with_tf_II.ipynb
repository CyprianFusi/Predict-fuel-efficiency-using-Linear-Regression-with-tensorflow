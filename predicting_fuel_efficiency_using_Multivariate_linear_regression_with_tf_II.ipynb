{
 "cells": [
  {
   "cell_type": "markdown",
   "id": "fd8fe3eb-912f-47ed-837e-bbd3eda547a6",
   "metadata": {},
   "source": [
    "# Predict fuel efficiency using Linear Regression with Neural Network Model\n",
    "We are going to make use of modules and functions from the Keras API to train a linear regression model to predict fuel efficiency from features such as `cylinders, displacement, horsepower`, and `weight`. We shall train both shallow and deep neural network models and compare them.\n",
    "\n",
    "## Dataset\n",
    "We will use the classic [Auto MPG](https://archive.ics.uci.edu/ml/datasets/auto+mpg) dataset and demonstrates how to build models to predict the fuel efficiency of the late-1970s and early 1980s automobiles. The dataset is also available from the [UCI Machine Learning Repository](https://archive.ics.uci.edu/ml/).\n",
    "\n",
    "## Import required packages"
   ]
  },
  {
   "cell_type": "code",
   "execution_count": 1,
   "id": "2104e2ac-8dd0-4e07-ba14-f45a23e56eb6",
   "metadata": {},
   "outputs": [],
   "source": [
    "import numpy as np\n",
    "import pandas as pd\n",
    "import tensorflow as tf\n",
    "from tensorflow import keras\n",
    "from tensorflow.keras import layers\n",
    "from sklearn.model_selection import train_test_split\n",
    "import scipy.stats as stats \n",
    "import matplotlib.pyplot as plt\n",
    "import seaborn as sns\n",
    "\n",
    "# Make NumPy printouts easier to read.\n",
    "np.set_printoptions(precision=3, suppress=True)"
   ]
  },
  {
   "cell_type": "markdown",
   "id": "fb42dd8a-f42b-458c-b73d-9b5915106d3f",
   "metadata": {},
   "source": [
    "### Get the data"
   ]
  },
  {
   "cell_type": "code",
   "execution_count": 2,
   "id": "fd0229f2-7808-4186-bfc0-54666ff3caae",
   "metadata": {},
   "outputs": [
    {
     "name": "stdout",
     "output_type": "stream",
     "text": [
      "Shape (rows, cols): (398, 8)\n"
     ]
    },
    {
     "data": {
      "text/html": [
       "<div>\n",
       "<style scoped>\n",
       "    .dataframe tbody tr th:only-of-type {\n",
       "        vertical-align: middle;\n",
       "    }\n",
       "\n",
       "    .dataframe tbody tr th {\n",
       "        vertical-align: top;\n",
       "    }\n",
       "\n",
       "    .dataframe thead th {\n",
       "        text-align: right;\n",
       "    }\n",
       "</style>\n",
       "<table border=\"1\" class=\"dataframe\">\n",
       "  <thead>\n",
       "    <tr style=\"text-align: right;\">\n",
       "      <th></th>\n",
       "      <th>MPG</th>\n",
       "      <th>Cylinders</th>\n",
       "      <th>Displacement</th>\n",
       "      <th>Horsepower</th>\n",
       "      <th>Weight</th>\n",
       "      <th>Acceleration</th>\n",
       "      <th>Model Year</th>\n",
       "      <th>Origin</th>\n",
       "    </tr>\n",
       "  </thead>\n",
       "  <tbody>\n",
       "    <tr>\n",
       "      <th>0</th>\n",
       "      <td>18.0</td>\n",
       "      <td>8</td>\n",
       "      <td>307.0</td>\n",
       "      <td>130.0</td>\n",
       "      <td>3504.0</td>\n",
       "      <td>12.0</td>\n",
       "      <td>70</td>\n",
       "      <td>1</td>\n",
       "    </tr>\n",
       "    <tr>\n",
       "      <th>1</th>\n",
       "      <td>15.0</td>\n",
       "      <td>8</td>\n",
       "      <td>350.0</td>\n",
       "      <td>165.0</td>\n",
       "      <td>3693.0</td>\n",
       "      <td>11.5</td>\n",
       "      <td>70</td>\n",
       "      <td>1</td>\n",
       "    </tr>\n",
       "    <tr>\n",
       "      <th>2</th>\n",
       "      <td>18.0</td>\n",
       "      <td>8</td>\n",
       "      <td>318.0</td>\n",
       "      <td>150.0</td>\n",
       "      <td>3436.0</td>\n",
       "      <td>11.0</td>\n",
       "      <td>70</td>\n",
       "      <td>1</td>\n",
       "    </tr>\n",
       "    <tr>\n",
       "      <th>3</th>\n",
       "      <td>16.0</td>\n",
       "      <td>8</td>\n",
       "      <td>304.0</td>\n",
       "      <td>150.0</td>\n",
       "      <td>3433.0</td>\n",
       "      <td>12.0</td>\n",
       "      <td>70</td>\n",
       "      <td>1</td>\n",
       "    </tr>\n",
       "    <tr>\n",
       "      <th>4</th>\n",
       "      <td>17.0</td>\n",
       "      <td>8</td>\n",
       "      <td>302.0</td>\n",
       "      <td>140.0</td>\n",
       "      <td>3449.0</td>\n",
       "      <td>10.5</td>\n",
       "      <td>70</td>\n",
       "      <td>1</td>\n",
       "    </tr>\n",
       "  </tbody>\n",
       "</table>\n",
       "</div>"
      ],
      "text/plain": [
       "    MPG  Cylinders  Displacement  Horsepower  Weight  Acceleration  \\\n",
       "0  18.0          8         307.0       130.0  3504.0          12.0   \n",
       "1  15.0          8         350.0       165.0  3693.0          11.5   \n",
       "2  18.0          8         318.0       150.0  3436.0          11.0   \n",
       "3  16.0          8         304.0       150.0  3433.0          12.0   \n",
       "4  17.0          8         302.0       140.0  3449.0          10.5   \n",
       "\n",
       "   Model Year  Origin  \n",
       "0          70       1  \n",
       "1          70       1  \n",
       "2          70       1  \n",
       "3          70       1  \n",
       "4          70       1  "
      ]
     },
     "execution_count": 2,
     "metadata": {},
     "output_type": "execute_result"
    }
   ],
   "source": [
    "url = 'http://archive.ics.uci.edu/ml/machine-learning-databases/auto-mpg/auto-mpg.data'\n",
    "column_names = ['MPG', 'Cylinders', 'Displacement', 'Horsepower', 'Weight',\n",
    "                'Acceleration', 'Model Year', 'Origin']\n",
    "\n",
    "raw_dataset = pd.read_csv(url, names=column_names, na_values='?', comment='\\t',\n",
    "                          sep=' ', skipinitialspace=True)\n",
    "\n",
    "print(f'Shape (rows, cols): {raw_dataset.shape}')\n",
    "raw_dataset.head()"
   ]
  },
  {
   "cell_type": "markdown",
   "id": "2fd0546f-e204-4816-9677-403de9b0ebf9",
   "metadata": {},
   "source": [
    "### Check for columns with missing data"
   ]
  },
  {
   "cell_type": "code",
   "execution_count": 3,
   "id": "caaec632-8bdf-49ad-b46e-7a54ee392bee",
   "metadata": {},
   "outputs": [
    {
     "name": "stdout",
     "output_type": "stream",
     "text": [
      "Columns with missing data:\n",
      "Horsepower    6\n",
      "dtype: int64\n"
     ]
    }
   ],
   "source": [
    "z = raw_dataset.isnull().sum()\n",
    "print(f'Columns with missing data:\\n{z[z > 0]}')"
   ]
  },
  {
   "cell_type": "markdown",
   "id": "ec4284eb-b064-4094-b2b3-b86c46fc6caa",
   "metadata": {},
   "source": [
    "### Handling missing values\n",
    "The dataset contains a 6 missing values in the `Horsepower` feature. We can safely drop these rows from the dataset without missing too much information. "
   ]
  },
  {
   "cell_type": "code",
   "execution_count": 4,
   "id": "f0870a11-e82b-4291-9832-60d316db6641",
   "metadata": {},
   "outputs": [],
   "source": [
    "dataset = raw_dataset.copy()\n",
    "dataset = dataset.dropna()"
   ]
  },
  {
   "cell_type": "markdown",
   "id": "4c614677-dc34-4606-bb30-02d91f832a66",
   "metadata": {},
   "source": [
    "### Check `dtypes` of the variables"
   ]
  },
  {
   "cell_type": "code",
   "execution_count": 5,
   "id": "25660165-5659-4342-98e8-17c1d1640d9b",
   "metadata": {},
   "outputs": [
    {
     "data": {
      "text/plain": [
       "MPG             float64\n",
       "Cylinders         int64\n",
       "Displacement    float64\n",
       "Horsepower      float64\n",
       "Weight          float64\n",
       "Acceleration    float64\n",
       "Model Year        int64\n",
       "Origin            int64\n",
       "dtype: object"
      ]
     },
     "execution_count": 5,
     "metadata": {},
     "output_type": "execute_result"
    }
   ],
   "source": [
    "dataset.dtypes"
   ]
  },
  {
   "cell_type": "markdown",
   "id": "149468a0-37f9-47e6-9fe5-d3ca86966df2",
   "metadata": {},
   "source": [
    "The `\"Origin\"` column ought to be categorical, not numeric. So the next step is to one-hot encode the values in the column with [pd.get_dummies](https://pandas.pydata.org/docs/reference/api/pandas.get_dummies.html)."
   ]
  },
  {
   "cell_type": "code",
   "execution_count": 6,
   "id": "0028ca7c-3c46-4167-bc42-d3de30d3d811",
   "metadata": {},
   "outputs": [
    {
     "data": {
      "text/plain": [
       "array([1, 3, 2], dtype=int64)"
      ]
     },
     "execution_count": 6,
     "metadata": {},
     "output_type": "execute_result"
    }
   ],
   "source": [
    "dataset['Origin'].unique()"
   ]
  },
  {
   "cell_type": "markdown",
   "id": "1024191c-87df-4cc6-aa35-8638d3771f40",
   "metadata": {},
   "source": [
    "**Based on the information or metadata about the data, the numeric values map to the countries as follows: `1 --> 'USA', 2 --> 'Europe', 3 --> 'Japan'`."
   ]
  },
  {
   "cell_type": "code",
   "execution_count": 7,
   "id": "21e5da71-b820-4c62-924c-f19e08eb9888",
   "metadata": {},
   "outputs": [
    {
     "data": {
      "text/html": [
       "<div>\n",
       "<style scoped>\n",
       "    .dataframe tbody tr th:only-of-type {\n",
       "        vertical-align: middle;\n",
       "    }\n",
       "\n",
       "    .dataframe tbody tr th {\n",
       "        vertical-align: top;\n",
       "    }\n",
       "\n",
       "    .dataframe thead th {\n",
       "        text-align: right;\n",
       "    }\n",
       "</style>\n",
       "<table border=\"1\" class=\"dataframe\">\n",
       "  <thead>\n",
       "    <tr style=\"text-align: right;\">\n",
       "      <th></th>\n",
       "      <th>MPG</th>\n",
       "      <th>Cylinders</th>\n",
       "      <th>Displacement</th>\n",
       "      <th>Horsepower</th>\n",
       "      <th>Weight</th>\n",
       "      <th>Acceleration</th>\n",
       "      <th>Model Year</th>\n",
       "      <th>Europe</th>\n",
       "      <th>Japan</th>\n",
       "      <th>USA</th>\n",
       "    </tr>\n",
       "  </thead>\n",
       "  <tbody>\n",
       "    <tr>\n",
       "      <th>0</th>\n",
       "      <td>18.0</td>\n",
       "      <td>8</td>\n",
       "      <td>307.0</td>\n",
       "      <td>130.0</td>\n",
       "      <td>3504.0</td>\n",
       "      <td>12.0</td>\n",
       "      <td>70</td>\n",
       "      <td>0.0</td>\n",
       "      <td>0.0</td>\n",
       "      <td>1.0</td>\n",
       "    </tr>\n",
       "    <tr>\n",
       "      <th>1</th>\n",
       "      <td>15.0</td>\n",
       "      <td>8</td>\n",
       "      <td>350.0</td>\n",
       "      <td>165.0</td>\n",
       "      <td>3693.0</td>\n",
       "      <td>11.5</td>\n",
       "      <td>70</td>\n",
       "      <td>0.0</td>\n",
       "      <td>0.0</td>\n",
       "      <td>1.0</td>\n",
       "    </tr>\n",
       "    <tr>\n",
       "      <th>2</th>\n",
       "      <td>18.0</td>\n",
       "      <td>8</td>\n",
       "      <td>318.0</td>\n",
       "      <td>150.0</td>\n",
       "      <td>3436.0</td>\n",
       "      <td>11.0</td>\n",
       "      <td>70</td>\n",
       "      <td>0.0</td>\n",
       "      <td>0.0</td>\n",
       "      <td>1.0</td>\n",
       "    </tr>\n",
       "    <tr>\n",
       "      <th>3</th>\n",
       "      <td>16.0</td>\n",
       "      <td>8</td>\n",
       "      <td>304.0</td>\n",
       "      <td>150.0</td>\n",
       "      <td>3433.0</td>\n",
       "      <td>12.0</td>\n",
       "      <td>70</td>\n",
       "      <td>0.0</td>\n",
       "      <td>0.0</td>\n",
       "      <td>1.0</td>\n",
       "    </tr>\n",
       "    <tr>\n",
       "      <th>4</th>\n",
       "      <td>17.0</td>\n",
       "      <td>8</td>\n",
       "      <td>302.0</td>\n",
       "      <td>140.0</td>\n",
       "      <td>3449.0</td>\n",
       "      <td>10.5</td>\n",
       "      <td>70</td>\n",
       "      <td>0.0</td>\n",
       "      <td>0.0</td>\n",
       "      <td>1.0</td>\n",
       "    </tr>\n",
       "  </tbody>\n",
       "</table>\n",
       "</div>"
      ],
      "text/plain": [
       "    MPG  Cylinders  Displacement  Horsepower  Weight  Acceleration  \\\n",
       "0  18.0          8         307.0       130.0  3504.0          12.0   \n",
       "1  15.0          8         350.0       165.0  3693.0          11.5   \n",
       "2  18.0          8         318.0       150.0  3436.0          11.0   \n",
       "3  16.0          8         304.0       150.0  3433.0          12.0   \n",
       "4  17.0          8         302.0       140.0  3449.0          10.5   \n",
       "\n",
       "   Model Year  Europe  Japan  USA  \n",
       "0          70     0.0    0.0  1.0  \n",
       "1          70     0.0    0.0  1.0  \n",
       "2          70     0.0    0.0  1.0  \n",
       "3          70     0.0    0.0  1.0  \n",
       "4          70     0.0    0.0  1.0  "
      ]
     },
     "execution_count": 7,
     "metadata": {},
     "output_type": "execute_result"
    }
   ],
   "source": [
    "dataset['Origin'] = dataset['Origin'].map({1: 'USA', 2: 'Europe', 3: 'Japan'})\n",
    "dataset = pd.get_dummies(dataset, columns = ['Origin'], prefix = '', prefix_sep = '', dtype = float)\n",
    "dataset.head()"
   ]
  },
  {
   "cell_type": "markdown",
   "id": "1d377a54-de8b-4b72-af1b-3aa92dc259ad",
   "metadata": {},
   "source": [
    "#### Note\n",
    "Neglecting to specify a data type by way of a `dtype` argument in `pd.get_dummies` will output boolean values for the dummy variables. This will lead to errors during **normalization** when instantiating the Tensor object, if the feature values are not cast to a uniform type when passing the array into `tf.keras.layers.Normalization.adapt()`.  [Tensor objects](https://www.tensorflow.org/guide/tensor) must house uniform data types."
   ]
  },
  {
   "cell_type": "markdown",
   "id": "44f857f9-a1f5-4634-8fe2-7b505e9447c1",
   "metadata": {},
   "source": [
    "### Inspect the data\n",
    "Let's check the relationship of some of the features/predictors with the target."
   ]
  },
  {
   "cell_type": "code",
   "execution_count": 8,
   "id": "6f932523-11cf-45bc-8422-cd5805044de8",
   "metadata": {},
   "outputs": [
    {
     "data": {
      "image/png": "[encoded data removed]",
      "text/plain": [
       "<Figure size 864x720 with 6 Axes>"
      ]
     },
     "metadata": {
      "needs_background": "light"
     },
     "output_type": "display_data"
    }
   ],
   "source": [
    "fig, ax = plt.subplots(3, 2, figsize=(12, 10))\n",
    "\n",
    "sns.scatterplot(x = dataset['Cylinders'], y = dataset['MPG'], ax = ax[0,0])\n",
    "ax[0,0].title.set_text('MPG vs Cylinders')\n",
    "\n",
    "sns.scatterplot(x = dataset['Displacement'], y = dataset['MPG'], ax = ax[0,1])\n",
    "ax[0,1].title.set_text('MPG vs Displacement')\n",
    "\n",
    "sns.scatterplot(x = dataset['Horsepower'], y = dataset['MPG'], ax = ax[1,1])\n",
    "ax[1,1].title.set_text('MPG vs Horsepower')\n",
    "\n",
    "sns.scatterplot(x = dataset['Weight'], y = dataset['MPG'], ax = ax[1,0])\n",
    "ax[1,0].title.set_text('MPG vs Weight')\n",
    "\n",
    "sns.scatterplot(x = dataset['Acceleration'], y = dataset['MPG'], ax = ax[2,0])\n",
    "ax[2,0].title.set_text('MPG vs Acceleration')\n",
    "\n",
    "sns.scatterplot(x = dataset['Model Year'], y = dataset['MPG'], ax = ax[2,1])\n",
    "ax[2,1].title.set_text('MPG vs Model Year')\n",
    "plt.tight_layout();"
   ]
  },
  {
   "cell_type": "markdown",
   "id": "a8fd39e1-f9ab-4c0c-acb7-c9b57e249ee7",
   "metadata": {},
   "source": [
    "### Some Observations\n",
    "* The number of `Cylinders` and `Model Year` are discrete and do not show any clear correlation with the target variable ` MPG`\n",
    "* `Displacement, Weight` and `Horsepower` show **negative** correlations with `MPG`, with clear signs of nonlinear relationship.\n",
    "* `Accelaration` show a somewhat positive correlation with `MPG`.\n",
    "### Get basic Info and statistics"
   ]
  },
  {
   "cell_type": "code",
   "execution_count": 9,
   "id": "d06dbebc-b045-44ce-9069-275996d4397c",
   "metadata": {},
   "outputs": [
    {
     "name": "stdout",
     "output_type": "stream",
     "text": [
      "<class 'pandas.core.frame.DataFrame'>\n",
      "Int64Index: 392 entries, 0 to 397\n",
      "Data columns (total 10 columns):\n",
      " #   Column        Non-Null Count  Dtype  \n",
      "---  ------        --------------  -----  \n",
      " 0   MPG           392 non-null    float64\n",
      " 1   Cylinders     392 non-null    int64  \n",
      " 2   Displacement  392 non-null    float64\n",
      " 3   Horsepower    392 non-null    float64\n",
      " 4   Weight        392 non-null    float64\n",
      " 5   Acceleration  392 non-null    float64\n",
      " 6   Model Year    392 non-null    int64  \n",
      " 7   Europe        392 non-null    float64\n",
      " 8   Japan         392 non-null    float64\n",
      " 9   USA           392 non-null    float64\n",
      "dtypes: float64(8), int64(2)\n",
      "memory usage: 33.7 KB\n"
     ]
    }
   ],
   "source": [
    "dataset.info()"
   ]
  },
  {
   "cell_type": "code",
   "execution_count": 10,
   "id": "fcad4052-a080-41d4-8d0f-5cf68b3536c4",
   "metadata": {},
   "outputs": [
    {
     "data": {
      "text/html": [
       "<div>\n",
       "<style scoped>\n",
       "    .dataframe tbody tr th:only-of-type {\n",
       "        vertical-align: middle;\n",
       "    }\n",
       "\n",
       "    .dataframe tbody tr th {\n",
       "        vertical-align: top;\n",
       "    }\n",
       "\n",
       "    .dataframe thead th {\n",
       "        text-align: right;\n",
       "    }\n",
       "</style>\n",
       "<table border=\"1\" class=\"dataframe\">\n",
       "  <thead>\n",
       "    <tr style=\"text-align: right;\">\n",
       "      <th></th>\n",
       "      <th>count</th>\n",
       "      <th>mean</th>\n",
       "      <th>std</th>\n",
       "      <th>min</th>\n",
       "      <th>25%</th>\n",
       "      <th>50%</th>\n",
       "      <th>75%</th>\n",
       "      <th>max</th>\n",
       "    </tr>\n",
       "  </thead>\n",
       "  <tbody>\n",
       "    <tr>\n",
       "      <th>MPG</th>\n",
       "      <td>392.0</td>\n",
       "      <td>23.445918</td>\n",
       "      <td>7.805007</td>\n",
       "      <td>9.0</td>\n",
       "      <td>17.000</td>\n",
       "      <td>22.75</td>\n",
       "      <td>29.000</td>\n",
       "      <td>46.6</td>\n",
       "    </tr>\n",
       "    <tr>\n",
       "      <th>Cylinders</th>\n",
       "      <td>392.0</td>\n",
       "      <td>5.471939</td>\n",
       "      <td>1.705783</td>\n",
       "      <td>3.0</td>\n",
       "      <td>4.000</td>\n",
       "      <td>4.00</td>\n",
       "      <td>8.000</td>\n",
       "      <td>8.0</td>\n",
       "    </tr>\n",
       "    <tr>\n",
       "      <th>Displacement</th>\n",
       "      <td>392.0</td>\n",
       "      <td>194.411990</td>\n",
       "      <td>104.644004</td>\n",
       "      <td>68.0</td>\n",
       "      <td>105.000</td>\n",
       "      <td>151.00</td>\n",
       "      <td>275.750</td>\n",
       "      <td>455.0</td>\n",
       "    </tr>\n",
       "    <tr>\n",
       "      <th>Horsepower</th>\n",
       "      <td>392.0</td>\n",
       "      <td>104.469388</td>\n",
       "      <td>38.491160</td>\n",
       "      <td>46.0</td>\n",
       "      <td>75.000</td>\n",
       "      <td>93.50</td>\n",
       "      <td>126.000</td>\n",
       "      <td>230.0</td>\n",
       "    </tr>\n",
       "    <tr>\n",
       "      <th>Weight</th>\n",
       "      <td>392.0</td>\n",
       "      <td>2977.584184</td>\n",
       "      <td>849.402560</td>\n",
       "      <td>1613.0</td>\n",
       "      <td>2225.250</td>\n",
       "      <td>2803.50</td>\n",
       "      <td>3614.750</td>\n",
       "      <td>5140.0</td>\n",
       "    </tr>\n",
       "    <tr>\n",
       "      <th>Acceleration</th>\n",
       "      <td>392.0</td>\n",
       "      <td>15.541327</td>\n",
       "      <td>2.758864</td>\n",
       "      <td>8.0</td>\n",
       "      <td>13.775</td>\n",
       "      <td>15.50</td>\n",
       "      <td>17.025</td>\n",
       "      <td>24.8</td>\n",
       "    </tr>\n",
       "    <tr>\n",
       "      <th>Model Year</th>\n",
       "      <td>392.0</td>\n",
       "      <td>75.979592</td>\n",
       "      <td>3.683737</td>\n",
       "      <td>70.0</td>\n",
       "      <td>73.000</td>\n",
       "      <td>76.00</td>\n",
       "      <td>79.000</td>\n",
       "      <td>82.0</td>\n",
       "    </tr>\n",
       "    <tr>\n",
       "      <th>Europe</th>\n",
       "      <td>392.0</td>\n",
       "      <td>0.173469</td>\n",
       "      <td>0.379136</td>\n",
       "      <td>0.0</td>\n",
       "      <td>0.000</td>\n",
       "      <td>0.00</td>\n",
       "      <td>0.000</td>\n",
       "      <td>1.0</td>\n",
       "    </tr>\n",
       "    <tr>\n",
       "      <th>Japan</th>\n",
       "      <td>392.0</td>\n",
       "      <td>0.201531</td>\n",
       "      <td>0.401656</td>\n",
       "      <td>0.0</td>\n",
       "      <td>0.000</td>\n",
       "      <td>0.00</td>\n",
       "      <td>0.000</td>\n",
       "      <td>1.0</td>\n",
       "    </tr>\n",
       "    <tr>\n",
       "      <th>USA</th>\n",
       "      <td>392.0</td>\n",
       "      <td>0.625000</td>\n",
       "      <td>0.484742</td>\n",
       "      <td>0.0</td>\n",
       "      <td>0.000</td>\n",
       "      <td>1.00</td>\n",
       "      <td>1.000</td>\n",
       "      <td>1.0</td>\n",
       "    </tr>\n",
       "  </tbody>\n",
       "</table>\n",
       "</div>"
      ],
      "text/plain": [
       "              count         mean         std     min       25%      50%  \\\n",
       "MPG           392.0    23.445918    7.805007     9.0    17.000    22.75   \n",
       "Cylinders     392.0     5.471939    1.705783     3.0     4.000     4.00   \n",
       "Displacement  392.0   194.411990  104.644004    68.0   105.000   151.00   \n",
       "Horsepower    392.0   104.469388   38.491160    46.0    75.000    93.50   \n",
       "Weight        392.0  2977.584184  849.402560  1613.0  2225.250  2803.50   \n",
       "Acceleration  392.0    15.541327    2.758864     8.0    13.775    15.50   \n",
       "Model Year    392.0    75.979592    3.683737    70.0    73.000    76.00   \n",
       "Europe        392.0     0.173469    0.379136     0.0     0.000     0.00   \n",
       "Japan         392.0     0.201531    0.401656     0.0     0.000     0.00   \n",
       "USA           392.0     0.625000    0.484742     0.0     0.000     1.00   \n",
       "\n",
       "                   75%     max  \n",
       "MPG             29.000    46.6  \n",
       "Cylinders        8.000     8.0  \n",
       "Displacement   275.750   455.0  \n",
       "Horsepower     126.000   230.0  \n",
       "Weight        3614.750  5140.0  \n",
       "Acceleration    17.025    24.8  \n",
       "Model Year      79.000    82.0  \n",
       "Europe           0.000     1.0  \n",
       "Japan            0.000     1.0  \n",
       "USA              1.000     1.0  "
      ]
     },
     "execution_count": 10,
     "metadata": {},
     "output_type": "execute_result"
    }
   ],
   "source": [
    "dataset.describe().T"
   ]
  },
  {
   "cell_type": "markdown",
   "id": "aa180a3b-658a-418a-9167-b2dd110cca78",
   "metadata": {},
   "source": [
    "## Checking the distribution of the target variable\n",
    "For linear regression, the target variable must be normally distributed. We can check this using a **histogram** and **Q-Q plot**."
   ]
  },
  {
   "cell_type": "code",
   "execution_count": 11,
   "id": "6b2cbec6-b020-4a2d-ba35-6e4b68b0bdbc",
   "metadata": {},
   "outputs": [
    {
     "data": {
      "image/png": "[encoded data removed]",
      "text/plain": [
       "<Figure size 720x288 with 2 Axes>"
      ]
     },
     "metadata": {
      "needs_background": "light"
     },
     "output_type": "display_data"
    }
   ],
   "source": [
    "fig, ax = plt.subplots(1, 2, figsize=(10, 4))\n",
    "sns.histplot(dataset['MPG'], kde = True, ax = ax[0])\n",
    "ax[0].title.set_text('Historgram (Distribution) of MPG')\n",
    "stats.probplot(dataset['MPG'], dist = 'norm', plot = ax[1])\n",
    "ax[1].set_title('Normality of Target');"
   ]
  },
  {
   "cell_type": "markdown",
   "id": "bfdf5276-045f-4a05-be83-8636d11d9e15",
   "metadata": {},
   "source": [
    "From the charts above, the target Miles per gallon (MPG) is not normally distributed. However, looking at both the histogram and the QQ-plot, and considering that we are dealing with a very small sample of cars (`392` observations), we can conclude that according to the **Central Limit Theorem**, with sufficiently large sample size, the distribution of MPG would approach normal or gaussian in nature. We will therefore continue with preparing the data for linear regression model.\n",
    "\n",
    "## Split the data into training and test sets"
   ]
  },
  {
   "cell_type": "code",
   "execution_count": 12,
   "id": "cbdae2c4-aeec-41f0-afe5-1cd20293eb3b",
   "metadata": {},
   "outputs": [],
   "source": [
    "X = dataset.drop('MPG', axis = 1)\n",
    "y = dataset.loc[:, 'MPG']\n",
    "\n",
    "X_train, X_test, y_train, y_test = train_test_split(X, y, test_size = 0.2, random_state=0)"
   ]
  },
  {
   "cell_type": "markdown",
   "id": "7a38d4e1-22da-4fb5-9652-248bb8c8febb",
   "metadata": {},
   "source": [
    "## Normalize the features\n",
    "From the basic statistics using `.describe` method, it can be seen that the features have different the ranges and spread."
   ]
  },
  {
   "cell_type": "code",
   "execution_count": 13,
   "id": "0f3a23d2-e58b-4b18-9cfc-6db060689aae",
   "metadata": {},
   "outputs": [
    {
     "data": {
      "text/html": [
       "<div>\n",
       "<style scoped>\n",
       "    .dataframe tbody tr th:only-of-type {\n",
       "        vertical-align: middle;\n",
       "    }\n",
       "\n",
       "    .dataframe tbody tr th {\n",
       "        vertical-align: top;\n",
       "    }\n",
       "\n",
       "    .dataframe thead th {\n",
       "        text-align: right;\n",
       "    }\n",
       "</style>\n",
       "<table border=\"1\" class=\"dataframe\">\n",
       "  <thead>\n",
       "    <tr style=\"text-align: right;\">\n",
       "      <th></th>\n",
       "      <th>mean</th>\n",
       "      <th>std</th>\n",
       "    </tr>\n",
       "  </thead>\n",
       "  <tbody>\n",
       "    <tr>\n",
       "      <th>MPG</th>\n",
       "      <td>23.445918</td>\n",
       "      <td>7.805007</td>\n",
       "    </tr>\n",
       "    <tr>\n",
       "      <th>Cylinders</th>\n",
       "      <td>5.471939</td>\n",
       "      <td>1.705783</td>\n",
       "    </tr>\n",
       "    <tr>\n",
       "      <th>Displacement</th>\n",
       "      <td>194.411990</td>\n",
       "      <td>104.644004</td>\n",
       "    </tr>\n",
       "    <tr>\n",
       "      <th>Horsepower</th>\n",
       "      <td>104.469388</td>\n",
       "      <td>38.491160</td>\n",
       "    </tr>\n",
       "    <tr>\n",
       "      <th>Weight</th>\n",
       "      <td>2977.584184</td>\n",
       "      <td>849.402560</td>\n",
       "    </tr>\n",
       "    <tr>\n",
       "      <th>Acceleration</th>\n",
       "      <td>15.541327</td>\n",
       "      <td>2.758864</td>\n",
       "    </tr>\n",
       "    <tr>\n",
       "      <th>Model Year</th>\n",
       "      <td>75.979592</td>\n",
       "      <td>3.683737</td>\n",
       "    </tr>\n",
       "    <tr>\n",
       "      <th>Europe</th>\n",
       "      <td>0.173469</td>\n",
       "      <td>0.379136</td>\n",
       "    </tr>\n",
       "    <tr>\n",
       "      <th>Japan</th>\n",
       "      <td>0.201531</td>\n",
       "      <td>0.401656</td>\n",
       "    </tr>\n",
       "    <tr>\n",
       "      <th>USA</th>\n",
       "      <td>0.625000</td>\n",
       "      <td>0.484742</td>\n",
       "    </tr>\n",
       "  </tbody>\n",
       "</table>\n",
       "</div>"
      ],
      "text/plain": [
       "                     mean         std\n",
       "MPG             23.445918    7.805007\n",
       "Cylinders        5.471939    1.705783\n",
       "Displacement   194.411990  104.644004\n",
       "Horsepower     104.469388   38.491160\n",
       "Weight        2977.584184  849.402560\n",
       "Acceleration    15.541327    2.758864\n",
       "Model Year      75.979592    3.683737\n",
       "Europe           0.173469    0.379136\n",
       "Japan            0.201531    0.401656\n",
       "USA              0.625000    0.484742"
      ]
     },
     "execution_count": 13,
     "metadata": {},
     "output_type": "execute_result"
    }
   ],
   "source": [
    "dataset.describe().T[['mean', 'std']]"
   ]
  },
  {
   "cell_type": "markdown",
   "id": "256591db-95a9-445a-9b37-04b302ce8d02",
   "metadata": {},
   "source": [
    "It is good practice to normalize features that use different scales and ranges.\n",
    "\n",
    "One reason this is important is because the features are multiplied by the model weights. So, the scale of the outputs and the scale of the gradients are affected by the scale of the inputs.\n",
    "\n",
    "Also some machine learning algorithms use distant metrics and a large number might falsely suggest that a feature is more than than one with a smaller value or at a further distant than another feature. Normalising the features helps aleviate this problem.\n",
    "\n",
    "Although a model *might* converge without feature normalization, normalization makes training much more stable.\n",
    "\n",
    "**Note:** There is no advantage to normalizing the **one-hot features** — it is done here for simplicity. For more details on how to use the preprocessing layers, refer to the [Working with preprocessing layers](https://www.tensorflow.org/guide/keras/preprocessing_layers) guide and the [Classify structured data using Keras preprocessing layers](../structured_data/preprocessing_layers.ipynb) tutorial.\n",
    "\n",
    "### The Normalization layer\n",
    "The `tf.keras.layers.Normalization` is a clean and simple way to add feature normalization into your model.\n",
    "\n",
    "We will create the layer then fit the state of the preprocessing layer to the data by calling `Normalization.adapt`."
   ]
  },
  {
   "cell_type": "code",
   "execution_count": 14,
   "id": "23c4e745-bd28-4567-8c74-e4f76159a602",
   "metadata": {},
   "outputs": [],
   "source": [
    "normalizer = tf.keras.layers.Normalization(axis=-1)"
   ]
  },
  {
   "cell_type": "code",
   "execution_count": 15,
   "id": "867365ab-cc69-4feb-a074-593cadd90ba1",
   "metadata": {},
   "outputs": [],
   "source": [
    "normalizer.adapt(np.array(X_train))"
   ]
  },
  {
   "cell_type": "markdown",
   "id": "343bd152-5b19-448e-81a3-294fa7d1ad26",
   "metadata": {},
   "source": [
    "## Multi-variable Linear regression (with multiple predictors)\n",
    "### Build the shallow neural network model\n",
    "We will create a two-step Keras Sequential model with the first layer being `normalizer` (`tf.keras.layers.Normalization(axis=-1)`) we defined above and adapted to the whole dataset."
   ]
  },
  {
   "cell_type": "code",
   "execution_count": 16,
   "id": "2f1d2899-84cf-4ce7-966d-af925a076fbb",
   "metadata": {},
   "outputs": [],
   "source": [
    "linear_model = tf.keras.Sequential([\n",
    "    normalizer,\n",
    "    layers.Dense(units=1)\n",
    "])"
   ]
  },
  {
   "cell_type": "markdown",
   "id": "8f3bd3a7-ef1d-453d-b1f2-b6d11a75633c",
   "metadata": {},
   "source": [
    "### Compile and Train the Model\n",
    "In compiling the model we'll provide the loss function to be optimzed and an **optimizer** with a **learning rate**.\n",
    "* Configure the model with Keras `Model.compile` and train with `Model.fit` for `100` epochs."
   ]
  },
  {
   "cell_type": "code",
   "execution_count": 17,
   "id": "563f3209-fe12-4158-8188-f85fd6d417fd",
   "metadata": {},
   "outputs": [],
   "source": [
    "linear_model.compile(\n",
    "    optimizer=tf.keras.optimizers.Adam(learning_rate=0.1),\n",
    "    loss = 'mean_absolute_error')"
   ]
  },
  {
   "cell_type": "code",
   "execution_count": 18,
   "id": "62dbf545-e52b-4294-8733-45f5111bbe3e",
   "metadata": {},
   "outputs": [
    {
     "name": "stdout",
     "output_type": "stream",
     "text": [
      "CPU times: total: 781 ms\n",
      "Wall time: 3.85 s\n"
     ]
    }
   ],
   "source": [
    "%%time\n",
    "epochs=100\n",
    "history = linear_model.fit(\n",
    "    X_train,\n",
    "    y_train,\n",
    "    epochs = epochs,\n",
    "    verbose = 0,\n",
    "    validation_split = 0.2)"
   ]
  },
  {
   "cell_type": "markdown",
   "id": "68d9f6d3-9102-4593-8b74-388180f4c6b5",
   "metadata": {},
   "source": [
    "## Visualize the performance of the model\n",
    "### Helper function to visualize model performance"
   ]
  },
  {
   "cell_type": "code",
   "execution_count": 19,
   "id": "3447cded-4fe3-478c-9105-ea33e4b50531",
   "metadata": {},
   "outputs": [],
   "source": [
    "def plot_loss(history):\n",
    "    plt.figure(figsize = (8, 5))\n",
    "    plt.plot(history.history['loss'], label='loss')\n",
    "    plt.plot(history.history['val_loss'], label='val_loss')\n",
    "    plt.ylim([0, 10])\n",
    "    plt.xlabel('Epoch')\n",
    "    plt.ylabel('MAE in [MPG]')\n",
    "    plt.legend()\n",
    "    plt.grid(True)"
   ]
  },
  {
   "cell_type": "code",
   "execution_count": 20,
   "id": "cd3874fd-244f-491d-a56c-3a452b104d8f",
   "metadata": {},
   "outputs": [
    {
     "data": {
      "image/png": "[encoded data removed]",
      "text/plain": [
       "<Figure size 576x360 with 1 Axes>"
      ]
     },
     "metadata": {
      "needs_background": "light"
     },
     "output_type": "display_data"
    }
   ],
   "source": [
    "plot_loss(history)"
   ]
  },
  {
   "cell_type": "markdown",
   "id": "fda895be-51c1-4a35-b9cf-df2f8b1fedb6",
   "metadata": {},
   "source": [
    "### Prediction using the test dataset\n",
    "We will save the results on the test set for later comparison with deep neural network model."
   ]
  },
  {
   "cell_type": "code",
   "execution_count": 21,
   "id": "257c41a1-4f23-49ca-b14d-256fd219978c",
   "metadata": {},
   "outputs": [],
   "source": [
    "test_results = {}"
   ]
  },
  {
   "cell_type": "code",
   "execution_count": 22,
   "id": "497d9c4c-f7d8-4182-8f51-035ced962d23",
   "metadata": {},
   "outputs": [],
   "source": [
    "test_results['linear_model'] = linear_model.evaluate(X_test, y_test, verbose = 0)"
   ]
  },
  {
   "cell_type": "markdown",
   "id": "655aa8df-6c51-49d4-af4e-1e29e81d543a",
   "metadata": {},
   "source": [
    "### Regression with a deep neural network (DNN)\n",
    "We will implement a multiple-input DNN models.\n",
    "\n",
    "The code is basically the same except the model is expanded to include some \"hidden\" non-linear layers. The name \"hidden\" here just means not directly connected to the inputs or outputs.\n",
    "\n",
    "These models will contain a few more layers than the linear model:\n",
    "\n",
    "* The normalization layer, as before (with `normalizer` for a multiple-input model).\n",
    "* Two hidden, non-linear, `Dense` layers with the ReLU (`relu`) activation function nonlinearity.\n",
    "* A linear `Dense` single-output layer.\n",
    "\n",
    "### A Helper function to build and compile model"
   ]
  },
  {
   "cell_type": "code",
   "execution_count": 23,
   "id": "27ead072-a425-466d-9a9f-6ed84781ae6c",
   "metadata": {},
   "outputs": [],
   "source": [
    "def build_and_compile_model(normalizer):\n",
    "    model = keras.Sequential([\n",
    "      normalizer,\n",
    "      layers.Dense(64, activation='relu'),\n",
    "      layers.Dense(64, activation='relu'),\n",
    "      layers.Dense(1)\n",
    "    ])\n",
    "\n",
    "    model.compile(loss='mean_absolute_error', optimizer=tf.keras.optimizers.Adam(0.001))\n",
    "    return model"
   ]
  },
  {
   "cell_type": "markdown",
   "id": "10ec0f17-8c2e-4a72-ab01-e375c615d915",
   "metadata": {},
   "source": [
    "## Build and Train the DNN Model"
   ]
  },
  {
   "cell_type": "code",
   "execution_count": 24,
   "id": "df5608ec-d7c1-46fe-ab10-cabf9f0b90cc",
   "metadata": {},
   "outputs": [
    {
     "name": "stdout",
     "output_type": "stream",
     "text": [
      "Model: \"sequential_1\"\n",
      "_________________________________________________________________\n",
      " Layer (type)                Output Shape              Param #   \n",
      "=================================================================\n",
      " normalization (Normalizatio  (None, 9)                19        \n",
      " n)                                                              \n",
      "                                                                 \n",
      " dense_1 (Dense)             (None, 64)                640       \n",
      "                                                                 \n",
      " dense_2 (Dense)             (None, 64)                4160      \n",
      "                                                                 \n",
      " dense_3 (Dense)             (None, 1)                 65        \n",
      "                                                                 \n",
      "=================================================================\n",
      "Total params: 4,884\n",
      "Trainable params: 4,865\n",
      "Non-trainable params: 19\n",
      "_________________________________________________________________\n"
     ]
    }
   ],
   "source": [
    "dnn_model = build_and_compile_model(normalizer)\n",
    "dnn_model.summary()"
   ]
  },
  {
   "cell_type": "code",
   "execution_count": 25,
   "id": "039eddc2-5c14-41ee-bd18-acb80427a056",
   "metadata": {},
   "outputs": [
    {
     "name": "stdout",
     "output_type": "stream",
     "text": [
      "CPU times: total: 1.03 s\n",
      "Wall time: 4.56 s\n"
     ]
    }
   ],
   "source": [
    "%%time\n",
    "epochs = 100\n",
    "history = dnn_model.fit(\n",
    "    X_train,\n",
    "    y_train,\n",
    "    validation_split = 0.2,\n",
    "    verbose = 0, epochs = epochs)"
   ]
  },
  {
   "cell_type": "code",
   "execution_count": 26,
   "id": "f876a191-f53c-4ddd-94b2-500c4573790c",
   "metadata": {},
   "outputs": [
    {
     "data": {
      "image/png": "[encoded data removed]",
      "text/plain": [
       "<Figure size 576x360 with 1 Axes>"
      ]
     },
     "metadata": {
      "needs_background": "light"
     },
     "output_type": "display_data"
    }
   ],
   "source": [
    "plot_loss(history)"
   ]
  },
  {
   "cell_type": "code",
   "execution_count": 27,
   "id": "ec6e360f-7a82-4e80-b10f-14e85aa6e008",
   "metadata": {},
   "outputs": [],
   "source": [
    "test_results['dnn_model'] = dnn_model.evaluate(X_test, y_test, verbose = 0)"
   ]
  },
  {
   "cell_type": "markdown",
   "id": "1c35c661-59d0-48c0-8043-03f9388cf02c",
   "metadata": {},
   "source": [
    "### Compare Performance between shallow and deep Neural Network Models"
   ]
  },
  {
   "cell_type": "code",
   "execution_count": 28,
   "id": "0e81b8c4-91be-4cfe-8c2e-d61b76f65cd3",
   "metadata": {},
   "outputs": [
    {
     "data": {
      "text/html": [
       "<div>\n",
       "<style scoped>\n",
       "    .dataframe tbody tr th:only-of-type {\n",
       "        vertical-align: middle;\n",
       "    }\n",
       "\n",
       "    .dataframe tbody tr th {\n",
       "        vertical-align: top;\n",
       "    }\n",
       "\n",
       "    .dataframe thead th {\n",
       "        text-align: right;\n",
       "    }\n",
       "</style>\n",
       "<table border=\"1\" class=\"dataframe\">\n",
       "  <thead>\n",
       "    <tr style=\"text-align: right;\">\n",
       "      <th></th>\n",
       "      <th>Mean absolute error [MPG]</th>\n",
       "    </tr>\n",
       "  </thead>\n",
       "  <tbody>\n",
       "    <tr>\n",
       "      <th>linear_model</th>\n",
       "      <td>2.263097</td>\n",
       "    </tr>\n",
       "    <tr>\n",
       "      <th>dnn_model</th>\n",
       "      <td>1.708215</td>\n",
       "    </tr>\n",
       "  </tbody>\n",
       "</table>\n",
       "</div>"
      ],
      "text/plain": [
       "              Mean absolute error [MPG]\n",
       "linear_model                   2.263097\n",
       "dnn_model                      1.708215"
      ]
     },
     "execution_count": 28,
     "metadata": {},
     "output_type": "execute_result"
    }
   ],
   "source": [
    "pd.DataFrame(test_results, index = ['Mean absolute error [MPG]']).T"
   ]
  },
  {
   "cell_type": "markdown",
   "id": "3df33f46-d200-44be-8a12-be9ed01f5ea1",
   "metadata": {},
   "source": [
    "The deep neural network clear out performed the shallow neural network in terms of `Mean Absolute Error (MAE)`.\n",
    "Note that running this model multiple time will give different results. To obtain a reasonable estimate of the model's performance, **cross validation** technique is used.\n",
    "### Make predictions\n",
    "Let's make predictions with the `dnn_model` on the test set using Keras `Model.predict` and review the loss:"
   ]
  },
  {
   "cell_type": "code",
   "execution_count": 29,
   "id": "9be966f1-1ff6-4c3a-8b8d-50b8b7ab597d",
   "metadata": {},
   "outputs": [
    {
     "name": "stdout",
     "output_type": "stream",
     "text": [
      "3/3 [==============================] - 0s 2ms/step\n"
     ]
    },
    {
     "data": {
      "image/png": "[encoded data removed]",
      "text/plain": [
       "<Figure size 576x360 with 1 Axes>"
      ]
     },
     "metadata": {
      "needs_background": "light"
     },
     "output_type": "display_data"
    }
   ],
   "source": [
    "y_preds = dnn_model.predict(X_test).flatten()\n",
    "\n",
    "plt.figure(figsize = (8, 5))\n",
    "plt.scatter(y_test, y_preds)\n",
    "plt.xlabel('True Values [MPG]')\n",
    "plt.ylabel('Predictions [MPG]')\n",
    "plt.title('Predictions vs Ground Truths')\n",
    "lims = [0, 50]\n",
    "plt.xlim(lims)\n",
    "plt.ylim(lims)\n",
    "plt.plot(lims, lims, c = 'red');"
   ]
  },
  {
   "cell_type": "markdown",
   "id": "0ffad647-212d-487a-9fcd-63a932c80e1c",
   "metadata": {},
   "source": [
    "### Residuals or Error Distribution\n",
    "The deep neural Network model appears doing a reasonably good job. Let's check the error distribution."
   ]
  },
  {
   "cell_type": "code",
   "execution_count": 30,
   "id": "4b11560c-d7b5-441f-b694-29f28b64ab41",
   "metadata": {},
   "outputs": [
    {
     "data": {
      "image/png": "[encoded data removed]",
      "text/plain": [
       "<Figure size 576x360 with 1 Axes>"
      ]
     },
     "metadata": {
      "needs_background": "light"
     },
     "output_type": "display_data"
    }
   ],
   "source": [
    "residuals = y_preds - y_test\n",
    "\n",
    "plt.figure(figsize = (8, 5))\n",
    "plt.hist(residuals, bins=25)\n",
    "plt.xlabel('Prediction Error [MPG]')\n",
    "plt.title('Residual Distribution')\n",
    "plt.ylabel('Count');"
   ]
  },
  {
   "cell_type": "markdown",
   "id": "b534d8ee-8731-45ca-98c9-deca971b6539",
   "metadata": {},
   "source": [
    "### Anderson-Darling test for normal distribution"
   ]
  },
  {
   "cell_type": "code",
   "execution_count": 31,
   "id": "96afaac2-4e5d-4be9-88af-80ed9b529fd4",
   "metadata": {},
   "outputs": [
    {
     "name": "stdout",
     "output_type": "stream",
     "text": [
      "Significant outcome! Reject the null hypothesis!\n",
      "Assumption not satisfied!\n",
      "Residuals are not normally distributed\n"
     ]
    }
   ],
   "source": [
    "from statsmodels.stats.diagnostic import normal_ad\n",
    "\n",
    "H0 = 'Residuals are normally distributed'\n",
    "H1 = 'Residuals are not normally distributed'\n",
    "alpha = 0.05\n",
    "_, p_value = normal_ad(residuals)\n",
    "if p_value < alpha:\n",
    "        print(f'Significant outcome! Reject the null hypothesis!\\nAssumption not satisfied!')\n",
    "        print(H1)\n",
    "else:\n",
    "    print(f'Fail to reject the null hypothesis.\\nAssumption satisfied.\\n{H0}')"
   ]
  },
  {
   "cell_type": "markdown",
   "id": "608932c9-87be-4ec6-bc19-4fe4bca90e67",
   "metadata": {},
   "source": [
    "One of the assumptions for linear regression is that **Residuals are normally distributed**. This assumption is not met and the **Confidence intervals** will likely be affected. \n",
    "\n",
    "The histogram shows hint that collecting more car observations could lead to this assumption being met. Another remedy could be to to performing **nonlinear transformations** on variables.\n",
    "\n",
    "### Check Homoscedasticity\n",
    "Homoscedasticity means ***“having the same scatter.”*** For it to exist in a set of data, the points must be about the same distance from the regression line. It refers to a condition in which the **variance of the residual**, or error term, in a regression model is **constant**. Homoscedasticity implies **correlation between residues and predictions**. If the residues are correlated with predicted targets then the residues is not noise but contain vital information. In order words, **if predictions and residues are correlated then residues is more an important feature rather than noise**.\n",
    "\n",
    "Homoscedasticity happens when the model may be giving **too much weight to a subset of the data**. "
   ]
  },
  {
   "cell_type": "code",
   "execution_count": 32,
   "id": "84fb64f2-4439-43c0-8230-686db276a0c4",
   "metadata": {},
   "outputs": [
    {
     "data": {
      "image/png": "[encoded data removed]",
      "text/plain": [
       "<Figure size 576x360 with 1 Axes>"
      ]
     },
     "metadata": {
      "needs_background": "light"
     },
     "output_type": "display_data"
    }
   ],
   "source": [
    "plt.figure(figsize = (8, 5))\n",
    "plt.scatter(y_preds, residuals)\n",
    "plt.axhline(c = 'red')\n",
    "plt.title('Scatter plot Predictions Vs Residuals')\n",
    "plt.xlabel('Predictions')\n",
    "plt.ylabel('Residues');"
   ]
  },
  {
   "cell_type": "markdown",
   "id": "db81d2a6-064b-4a2a-903f-ff57a2ec0a70",
   "metadata": {},
   "source": [
    "The scatter plot above shows that we are having almost ***“having the same scatter.”*** above and below `Residues = 0` line, though not perfectly so. Again, it indicates that with sufficiently large dataset, heteroscedasticity won't be an issue for this model.\n",
    "Heteroscedasticity can be solved either by using **weighted least squares regression instead of the standard OLS** or **transforming either the dependent or highly skewed variables**. Performing a log transformation on the dependent variable is not a bad place to start."
   ]
  }
 ],
 "metadata": {
  "kernelspec": {
   "display_name": "Python 3 (ipykernel)",
   "language": "python",
   "name": "python3"
  },
  "language_info": {
   "codemirror_mode": {
    "name": "ipython",
    "version": 3
   },
   "file_extension": ".py",
   "mimetype": "text/x-python",
   "name": "python",
   "nbconvert_exporter": "python",
   "pygments_lexer": "ipython3",
   "version": "3.9.12"
  }
 },
 "nbformat": 4,
 "nbformat_minor": 5
}
